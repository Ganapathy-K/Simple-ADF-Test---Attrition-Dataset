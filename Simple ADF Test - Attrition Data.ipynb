{
 "cells": [
  {
   "cell_type": "markdown",
   "id": "dbd9bfe9-52d5-4db6-be43-43483f9af0c1",
   "metadata": {},
   "source": [
    "#### Global initialization of libraries"
   ]
  },
  {
   "cell_type": "code",
   "execution_count": 1,
   "id": "f25ba521-fcdc-478a-886c-aebf5b7166f9",
   "metadata": {},
   "outputs": [],
   "source": [
    "import numpy as np\n",
    "import pandas as pd\n",
    "import matplotlib.pyplot as plt\n",
    "%matplotlib inline\n",
    "from statsmodels.tsa.stattools import adfuller"
   ]
  },
  {
   "cell_type": "markdown",
   "id": "60e9d9ed-b209-447f-8eb0-3ff54b7f7062",
   "metadata": {},
   "source": [
    "#### Loading the dataset"
   ]
  },
  {
   "cell_type": "code",
   "execution_count": 3,
   "id": "6ce949b3-ee08-4556-9187-44cdde5e60d7",
   "metadata": {
    "scrolled": true
   },
   "outputs": [
    {
     "data": {
      "text/html": [
       "<div>\n",
       "<style scoped>\n",
       "    .dataframe tbody tr th:only-of-type {\n",
       "        vertical-align: middle;\n",
       "    }\n",
       "\n",
       "    .dataframe tbody tr th {\n",
       "        vertical-align: top;\n",
       "    }\n",
       "\n",
       "    .dataframe thead th {\n",
       "        text-align: right;\n",
       "    }\n",
       "</style>\n",
       "<table border=\"1\" class=\"dataframe\">\n",
       "  <thead>\n",
       "    <tr style=\"text-align: right;\">\n",
       "      <th></th>\n",
       "      <th>0</th>\n",
       "      <th>1</th>\n",
       "      <th>2</th>\n",
       "      <th>3</th>\n",
       "      <th>4</th>\n",
       "      <th>5</th>\n",
       "      <th>6</th>\n",
       "      <th>7</th>\n",
       "      <th>8</th>\n",
       "      <th>9</th>\n",
       "      <th>10</th>\n",
       "      <th>11</th>\n",
       "      <th>12</th>\n",
       "    </tr>\n",
       "  </thead>\n",
       "  <tbody>\n",
       "    <tr>\n",
       "      <th>Year</th>\n",
       "      <td>2011</td>\n",
       "      <td>2012</td>\n",
       "      <td>2013</td>\n",
       "      <td>2014</td>\n",
       "      <td>2015</td>\n",
       "      <td>2016</td>\n",
       "      <td>2017</td>\n",
       "      <td>2018</td>\n",
       "      <td>2019</td>\n",
       "      <td>2020</td>\n",
       "      <td>2021</td>\n",
       "      <td>2022</td>\n",
       "      <td>2023</td>\n",
       "    </tr>\n",
       "    <tr>\n",
       "      <th>Attrition Rate</th>\n",
       "      <td>10</td>\n",
       "      <td>11</td>\n",
       "      <td>12</td>\n",
       "      <td>13</td>\n",
       "      <td>15</td>\n",
       "      <td>17</td>\n",
       "      <td>18</td>\n",
       "      <td>20</td>\n",
       "      <td>22</td>\n",
       "      <td>23</td>\n",
       "      <td>25</td>\n",
       "      <td>27</td>\n",
       "      <td>28</td>\n",
       "    </tr>\n",
       "  </tbody>\n",
       "</table>\n",
       "</div>"
      ],
      "text/plain": [
       "                  0     1     2     3     4     5     6     7     8     9   \\\n",
       "Year            2011  2012  2013  2014  2015  2016  2017  2018  2019  2020   \n",
       "Attrition Rate    10    11    12    13    15    17    18    20    22    23   \n",
       "\n",
       "                  10    11    12  \n",
       "Year            2021  2022  2023  \n",
       "Attrition Rate    25    27    28  "
      ]
     },
     "execution_count": 3,
     "metadata": {},
     "output_type": "execute_result"
    }
   ],
   "source": [
    "attrition_data = pd.read_csv(r'D:\\Downloads\\attrition_data.csv')\n",
    "attrition_data.transpose()"
   ]
  },
  {
   "cell_type": "markdown",
   "id": "d5f9f686-d8c9-4634-93aa-40131e8f51b8",
   "metadata": {},
   "source": [
    "#### Generating the 'Augmented Dickey-Fuller' test result"
   ]
  },
  {
   "cell_type": "code",
   "execution_count": 5,
   "id": "4c187a96-b231-447e-9da8-d7352ace981e",
   "metadata": {},
   "outputs": [],
   "source": [
    "series = attrition_data['Attrition Rate']\n",
    "result = adfuller(series, autolag='AIC')"
   ]
  },
  {
   "cell_type": "code",
   "execution_count": 6,
   "id": "2b69ecee-a588-4b32-b3e5-7e3bd3b588f3",
   "metadata": {},
   "outputs": [
    {
     "name": "stdout",
     "output_type": "stream",
     "text": [
      "ADF Statistic: -0.2146071357327699\n",
      "p-value: 0.9367579401732326\n",
      "Critial Values:\n",
      "   1%, -4.6651863281249994\n",
      "Critial Values:\n",
      "   5%, -3.3671868750000002\n",
      "Critial Values:\n",
      "   10%, -2.802960625\n"
     ]
    }
   ],
   "source": [
    "print(f'ADF Statistic: {result[0]}')\n",
    "print(f'p-value: {result[1]}')\n",
    "for key, value in result[4].items():\n",
    "    print('Critial Values:')\n",
    "    print(f'   {key}, {value}')"
   ]
  },
  {
   "cell_type": "markdown",
   "id": "1ba591e2-7f8a-4443-8720-6ae827f11ec1",
   "metadata": {},
   "source": [
    "#### Insights from the ADF test"
   ]
  },
  {
   "cell_type": "code",
   "execution_count": 8,
   "id": "6108d001-1ac9-4695-a9d8-c7c22b12c6f2",
   "metadata": {},
   "outputs": [
    {
     "name": "stdout",
     "output_type": "stream",
     "text": [
      "P-value of 0.9367579401732326 is greater than/equal to 0.05\n",
      "Null hypothesis: failed to reject\n",
      "Series: non stationary\n"
     ]
    }
   ],
   "source": [
    "if result[1] >= 0.05:\n",
    "    print('P-value of', result[1], 'is greater than/equal to 0.05\\nNull hypothesis: failed to reject\\nSeries: non stationary')\n",
    "else:\n",
    "    print('P-value of', result[1], 'is lesser than 0.05\\nNull hypothesis: rejected\\nSeries: stationary')"
   ]
  },
  {
   "cell_type": "markdown",
   "id": "21328c68-89e9-478e-98c6-18bd858c3e0b",
   "metadata": {},
   "source": [
    "#### Visual representation"
   ]
  },
  {
   "cell_type": "code",
   "execution_count": 15,
   "id": "cd81362a-995f-4d3e-a5d4-48e9dde871b4",
   "metadata": {},
   "outputs": [
    {
     "data": {
      "image/png": "[encoded data removed]",
      "text/plain": [
       "<Figure size 1000x500 with 1 Axes>"
      ]
     },
     "metadata": {},
     "output_type": "display_data"
    }
   ],
   "source": [
    "fig, axes = plt.subplots(figsize=(10,5))\n",
    "plt.plot(attrition_data['Year'], attrition_data['Attrition Rate'])\n",
    "plt.title('Attrition per year')\n",
    "plt.xlabel('Year')\n",
    "plt.ylabel('Attrition')\n",
    "plt.grid(True)"
   ]
  },
  {
   "cell_type": "code",
   "execution_count": null,
   "id": "f20c1db2-0e5f-490f-a6d8-1d59acfe013b",
   "metadata": {},
   "outputs": [],
   "source": []
  }
 ],
 "metadata": {
  "kernelspec": {
   "display_name": "Python 3 (ipykernel)",
   "language": "python",
   "name": "python3"
  },
  "language_info": {
   "codemirror_mode": {
    "name": "ipython",
    "version": 3
   },
   "file_extension": ".py",
   "mimetype": "text/x-python",
   "name": "python",
   "nbconvert_exporter": "python",
   "pygments_lexer": "ipython3",
   "version": "3.11.9"
  }
 },
 "nbformat": 4,
 "nbformat_minor": 5
}
